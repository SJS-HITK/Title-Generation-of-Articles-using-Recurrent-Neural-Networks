{
 "cells": [
  {
   "cell_type": "markdown",
   "metadata": {},
   "source": [
    "# Fine Tuning Generated Titles through OOV Replacement and Grammar check"
   ]
  },
  {
   "cell_type": "markdown",
   "metadata": {},
   "source": [
    "#### **Downloading and Importing required libraries**"
   ]
  },
  {
   "cell_type": "code",
   "execution_count": null,
   "metadata": {},
   "outputs": [],
   "source": [
    "!pip install compress-pickle\n",
    "!pip install rouge\n",
    "!sudo apt install openjdk-8-jdk\n",
    "!sudo update-alternatives --set java /usr/lib/jvm/java-8-openjdk-amd64/jre/bin/java\n",
    "!pip install language-check"
   ]
  },
  {
   "cell_type": "code",
   "execution_count": null,
   "metadata": {},
   "outputs": [],
   "source": [
    "import nltk\n",
    "from nltk.tokenize import word_tokenize\n",
    "from nltk.translate.bleu_score import sentence_bleu,SmoothingFunction\n",
    "from rouge import Rouge \n",
    "\n",
    "import collections\n",
    "import compress_pickle as pickle\n",
    "import re\n",
    "import bz2\n",
    "import os \n",
    "import time\n",
    "import warnings\n",
    "\n",
    "import numpy as np\n",
    "import pandas as pd\n",
    "\n",
    "from tqdm.notebook import trange,tqdm\n",
    "\n",
    "nltk.download('punkt')"
   ]
  },
  {
   "cell_type": "markdown",
   "metadata": {},
   "source": [
    "#### **Necessary Utility functions**"
   ]
  },
  {
   "cell_type": "code",
   "execution_count": null,
   "metadata": {},
   "outputs": [],
   "source": [
    "default_path = \"/Training/Model_with_attention/\"\n",
    "result_path = \"/Training/Fine_tuning/\"\n",
    "\n",
    "valid_article_path = dataset_path + \"abstract.valid.bz2\"\n",
    "valid_title_path   = dataset_path + \"title.valid.bz2\"\n",
    "\n",
    "def clean_str(sentence):\n",
    "    sentence = re.sub(\"[#.]+\", \" \", sentence)\n",
    "    return sentence\n",
    "\n",
    "\n",
    "def get_text_list(data_path, toy=False,clean=True):\n",
    "    with bz2.open (data_path, \"r\") as f:\n",
    "        if not clean:\n",
    "            return [x.decode().strip() for x in f.readlines()[5000:10000:5]]\n",
    "        if not toy:\n",
    "            return [clean_str(x.decode().strip()) for x in tqdm(f.readlines())]\n",
    "        else:\n",
    "            return [clean_str(x.decode().strip()) for x in tqdm(f.readlines()[:20000])]\n",
    "\n",
    "def get_generated_title(data_path):\n",
    "    with open(data_path, 'r') as f:\n",
    "        return [clean_str(x.strip()) for x in tqdm(f.readlines())]\n",
    "\n",
    "def get_word_dict():\n",
    "    word_dict = {}\n",
    "    with open(default_path+\"word_dict.bz\", \"rb\") as f:\n",
    "        word_dict = pickle.load(f,compression='bz2')\n",
    "    return word_dict"
   ]
  },
  {
   "cell_type": "markdown",
   "metadata": {},
   "source": [
    "#### **Title Modification (<Unk> replacment and Grammar Check)**"
   ]
  },
  {
   "cell_type": "code",
   "execution_count": null,
   "metadata": {},
   "outputs": [],
   "source": [
    "tool = language_check.LanguageTool('en-US')\n",
    "smoothing = SmoothingFunction().method0\n",
    "\n",
    "def get_unk_tokens(word_dict, article):\n",
    "    unk = defaultdict(float)\n",
    "    tokens = word_tokenize(article)\n",
    "    n = min(250,len(tokens))\n",
    "    for i,token in enumerate(tokens[:250]):\n",
    "        if token not in word_dict:\n",
    "            unk[token]+= get_weight(i,n)\n",
    "    tup = []\n",
    "    for i in unk:\n",
    "        tup.append((unk[i],i))\n",
    "    return sorted(tup[:5],reverse=True)\n",
    "\n",
    "def get_weight(index, token_len):\n",
    "    p = index/token_len\n",
    "    if(p<=0.1):\n",
    "        return 0.35 \n",
    "    if(p<=0.2):\n",
    "        return 0.3\n",
    "    if(p<=0.4):\n",
    "        return 0.2\n",
    "    if(p<=0.7):\n",
    "        return 0.1\n",
    "    return 0.05\n",
    "\n",
    "def correct(text):\n",
    "    matches = tool.check(text)\n",
    "    text = language_check.correct(text, matches)\n",
    "    return text\n",
    "\n",
    "def update_title(word_dict,article, title):\n",
    "    replace_count = 0\n",
    "    unk_list = get_unk_tokens(word_dict, article)\n",
    "    for j in range(min(title.count('<unk>'), len(unk_list))):\n",
    "        title = title.replace('<unk>', unk_list[j][1],1)\n",
    "        replace_count += 1\n",
    "    return (correct(title), unk_list, replace_count)\n",
    "\n",
    "def calculate_bleu(title, reference):\n",
    "    title_tok,reference_tok = word_tokenize(title), [word_tokenize(reference)]\n",
    "    return sentence_bleu(reference_tok,title_tok,smoothing_function=smoothing)"
   ]
  },
  {
   "cell_type": "markdown",
   "metadata": {},
   "source": [
    "#### **Fine Tuning Generated Headlines**"
   ]
  },
  {
   "cell_type": "code",
   "execution_count": null,
   "metadata": {},
   "outputs": [],
   "source": [
    "word_dict = get_word_dict()\n",
    "\n",
    "abstract_list = get_text_list(valid_article_path)\n",
    "titles_generated = get_generated_title(default_path + \"result.txt\")\n",
    "\n",
    "fine_tuned_titles = []\n",
    "for i in trange(len(titles_generated)):\n",
    "    fine_tuned_titles.append(update_title(word_dict, abstract_list[i], titles_generated[i]))\n",
    "\n",
    "with open(result_path + \"result.txt\", \"w\") as f:\n",
    "        f.write('\\n'.join(fine_tuned_titles))"
   ]
  },
  {
   "cell_type": "markdown",
   "metadata": {},
   "source": [
    "##### **BLEU** and **Rouge** scores calculation"
   ]
  },
  {
   "cell_type": "code",
   "execution_count": null,
   "metadata": {},
   "outputs": [],
   "source": [
    "rouge = Rouge()\n",
    "original_title,generated_title= [],[]\n",
    "\n",
    "print(\"Loading Data...\")\n",
    "original_title = get_generated_title(default_path + 'original.txt')\n",
    "generated_title = get_generated_title(result_path + \"result.txt\")\n",
    "abstract = get_text_list(valid_article_path)\n",
    "\n",
    "print('Tokenizing Data...')\n",
    "tokens_original = [[word_tokenize(s)] for s in tqdm(original_title)]\n",
    "tokens_generated = [word_tokenize(s) for s in tqdm(generated_title)]\n",
    "token_abstract = [word_tokenize(s) for s in tqdm(abstract)]\n",
    "\n",
    "minmized_abstract = []\n",
    "for line in token_abstract:\n",
    "    minmized_abstract.append(' '.join(line[:40])+'...')\n",
    "\n",
    "smoothing = SmoothingFunction().method0\n",
    "print('Calculating BLEU Score')\n",
    "bleu_score = []\n",
    "for i in trange(len(tokens_original)):\n",
    "    bleu_score.append(sentence_bleu(tokens_original[i],tokens_generated[i],smoothing_function=smoothing))\n",
    "bleu = np.array(bleu_score)\n",
    "print(\"BLEU score report\")\n",
    "print(\"Min Score:\",bleu.min(),\"Max Score:\",bleu.max(),\"Avg Score:\",bleu.mean())\n",
    "\n",
    "print('Calculating Rouge Score')\n",
    "rouge1f,rouge1p,rouge1r = [],[],[]\n",
    "rouge2f,rouge2p,rouge2r = [],[],[]\n",
    "rougelf,rougelp,rougelr = [],[],[]\n",
    "for i in trange(len(tokens_original)):\n",
    "    score = rouge.get_scores(original_title[i],generated_title[i])\n",
    "    rouge1f.append(score[0]['rouge-1']['f'])\n",
    "    rouge1p.append(score[0]['rouge-1']['p'])\n",
    "    rouge1r.append(score[0]['rouge-1']['r'])\n",
    "    rouge2f.append(score[0]['rouge-2']['f'])\n",
    "    rouge2p.append(score[0]['rouge-2']['p'])\n",
    "    rouge2r.append(score[0]['rouge-2']['r'])\n",
    "    rougelf.append(score[0]['rouge-l']['f'])\n",
    "    rougelp.append(score[0]['rouge-l']['p'])\n",
    "    rougelr.append(score[0]['rouge-l']['r'])\n",
    "\n",
    "rouge1f,rouge1p,rouge1r = np.array(rouge1f),np.array(rouge1p),np.array(rouge1r)\n",
    "rouge2f,rouge2p,rouge2r = np.array(rouge2f),np.array(rouge2p),np.array(rouge2r)\n",
    "rougelf,rougelp,rougelr = np.array(rougelf),np.array(rougelp),np.array(rougelr)\n",
    "\n",
    "df = pd.DataFrame(zip(minmized_abstract,original_title,generated_title,bleu,rouge1f,rouge1p,rouge1r,rouge2f,rouge2p,rouge2r,rougelf,rougelp,rougelr),columns=['Abstract','Original_Headline','Generated_Headline_x','Bleu_Score_x','Rouge-1_F_x','Rouge-1_P_x','Rouge-1_R_x','Rouge-2_F_x','Rouge-2_P_x','Rouge-2_R_x','Rouge-l_F_x','Rouge-l_P_x','Rouge-l_R_x'])\n",
    "df.to_csv(result_path+'output_with_fine_tuning.csv',index=False)\n",
    "\n",
    "print('Done!!')"
   ]
  }
 ],
 "metadata": {
  "kernelspec": {
   "display_name": "Python 3",
   "language": "python",
   "name": "python3"
  },
  "language_info": {
   "codemirror_mode": {
    "name": "ipython",
    "version": 3
   },
   "file_extension": ".py",
   "mimetype": "text/x-python",
   "name": "python",
   "nbconvert_exporter": "python",
   "pygments_lexer": "ipython3",
   "version": "3.6.8"
  }
 },
 "nbformat": 4,
 "nbformat_minor": 2
}
