{
 "cells": [
  {
   "cell_type": "code",
   "execution_count": null,
   "metadata": {
    "colab": {},
    "colab_type": "code",
    "id": "vZz6iIIzZgzq"
   },
   "outputs": [],
   "source": [
    "from tqdm import tqdm\n",
    "import requests\n",
    "import csv"
   ]
  },
  {
   "cell_type": "code",
   "execution_count": null,
   "metadata": {
    "colab": {},
    "colab_type": "code",
    "id": "KeMcz8nGnbot"
   },
   "outputs": [],
   "source": [
    "#Only required for google colab - No need to run this block outside colab environment\n",
    "from google.colab import drive\n",
    "drive.mount('/content/drive')"
   ]
  },
  {
   "cell_type": "code",
   "execution_count": null,
   "metadata": {
    "colab": {},
    "colab_type": "code",
    "id": "AQ2zeMlFaD1y"
   },
   "outputs": [],
   "source": [
    "# Multiple urls are available. Only one is used for convenience but multiple are present with larger datasets\n",
    "URL = \"https://s3-us-west-2.amazonaws.com/ai2-s2-research-public/open-corpus/2017-10-30/papers-2017-10-30-sample.zip\"\n"
   ]
  },
  {
   "cell_type": "code",
   "execution_count": null,
   "metadata": {
    "colab": {},
    "colab_type": "code",
    "id": "UI5bt_kGa2kd"
   },
   "outputs": [],
   "source": [
    "#function to fetch the json containing paperAbstract and title \n",
    "def fetch(url):\n",
    "  block_size = 1024\n",
    "  response = requests.get(url, stream=True)\n",
    "  total_size = int(response.headers.get('content-length', 0))\n",
    "  filename = url.split(\"/\")[-2]+\".zip\"\n",
    "  t=tqdm(total=total_size, unit='iB', unit_scale=True)\n",
    "  with open(filename, \"wb\") as f:\n",
    "    for data in response.iter_content(block_size):\n",
    "        t.update(len(data))\n",
    "        f.write(data)\n",
    "  t.close()\n"
   ]
  },
  {
   "cell_type": "code",
   "execution_count": null,
   "metadata": {
    "colab": {},
    "colab_type": "code",
    "id": "mffnlFmfbkak"
   },
   "outputs": [],
   "source": [
    "fetch(URL)"
   ]
  },
  {
   "cell_type": "code",
   "execution_count": null,
   "metadata": {
    "colab": {},
    "colab_type": "code",
    "id": "CXTZLWbld1PE"
   },
   "outputs": [],
   "source": [
    "import json  \n",
    "import zipfile , gzip\n",
    "import io\n",
    "\n",
    "\n",
    "def read(file): \n",
    "  res,ctr = [],0\n",
    "  with zipfile.ZipFile(file,'r') as z1:\n",
    "    temp = io.BytesIO(z1.read(z1.namelist()[0]))\n",
    "    with gzip.open(temp,'r') as z:\n",
    "      for item in (z.read().decode(\"utf-8\").split(\"\\n\")):\n",
    "        if(item!=\"\"):\n",
    "          res .append(json.loads(str(item)))    \n",
    "  return res\n"
   ]
  },
  {
   "cell_type": "code",
   "execution_count": null,
   "metadata": {
    "colab": {},
    "colab_type": "code",
    "id": "pdfcpisdeHNV"
   },
   "outputs": [],
   "source": [
    "d = read(URL.split(\"/\")[-2]+\".zip\")"
   ]
  },
  {
   "cell_type": "code",
   "execution_count": null,
   "metadata": {
    "colab": {},
    "colab_type": "code",
    "id": "Q51V5EkKsYDw"
   },
   "outputs": [],
   "source": [
    "d[0:10]"
   ]
  },
  {
   "cell_type": "code",
   "execution_count": null,
   "metadata": {
    "colab": {},
    "colab_type": "code",
    "id": "bvbywXXdn4sG"
   },
   "outputs": [],
   "source": [
    "# Write on the csv file\n",
    "# When running on Google Colab add the following: '/content/drive/My Drive/Semantic_Scholar_Dataset/' path before the csv file\n",
    "with open('SemanticScholar_Data.csv', 'w', newline='') as csvFile:\n",
    "  writer = csv.writer(csvFile)\n",
    "  writer.writerow(['title', 'abstract'])\n",
    "csvFile.close()"
   ]
  },
  {
   "cell_type": "code",
   "execution_count": null,
   "metadata": {
    "colab": {},
    "colab_type": "code",
    "id": "71bz6v3NehM1"
   },
   "outputs": [],
   "source": [
    "# When running on Google Colab add the following: '/content/drive/My Drive/Semantic_Scholar_Dataset/' path before the csv file\n",
    "with open('SemanticScholar_Data.csv', 'a', newline='') as csvFile:\n",
    "  writer = csv.writer(csvFile)\n",
    "  for i in d:\n",
    "    writer.writerow([i['title'], i['paperAbstract']])\n",
    "csvFile.close()"
   ]
  }
 ],
 "metadata": {
  "colab": {
   "authorship_tag": "ABX9TyOAEmwTQrUgNczalzgA5EHB",
   "collapsed_sections": [],
   "name": "Semantic_crawler.ipynb",
   "private_outputs": true,
   "provenance": []
  },
  "kernelspec": {
   "display_name": "Python 3",
   "language": "python",
   "name": "python3"
  },
  "language_info": {
   "codemirror_mode": {
    "name": "ipython",
    "version": 3
   },
   "file_extension": ".py",
   "mimetype": "text/x-python",
   "name": "python",
   "nbconvert_exporter": "python",
   "pygments_lexer": "ipython3",
   "version": "3.8.3"
  }
 },
 "nbformat": 4,
 "nbformat_minor": 1
}
