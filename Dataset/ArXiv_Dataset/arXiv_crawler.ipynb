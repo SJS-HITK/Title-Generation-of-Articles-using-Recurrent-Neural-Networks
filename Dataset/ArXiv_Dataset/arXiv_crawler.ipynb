{
 "cells": [
  {
   "cell_type": "code",
   "execution_count": null,
   "metadata": {
    "colab": {
     "base_uri": "https://localhost:8080/",
     "height": 187
    },
    "colab_type": "code",
    "executionInfo": {
     "elapsed": 16711,
     "status": "ok",
     "timestamp": 1594730149529,
     "user": {
      "displayName": "Heritage Institute of Technology",
      "photoUrl": "",
      "userId": "09176238989486126448"
     },
     "user_tz": -330
    },
    "id": "7UuFaMqi2dTS",
    "outputId": "d7a8efd9-0fd6-433b-df78-19b857508b28"
   },
   "outputs": [],
   "source": [
    "#only required for google colab - No need to run this block outside colab environment\n",
    "!pip install feedparser"
   ]
  },
  {
   "cell_type": "code",
   "execution_count": null,
   "metadata": {
    "colab": {
     "base_uri": "https://localhost:8080/",
     "height": 122
    },
    "colab_type": "code",
    "executionInfo": {
     "elapsed": 26351,
     "status": "ok",
     "timestamp": 1594730181430,
     "user": {
      "displayName": "Heritage Institute of Technology",
      "photoUrl": "",
      "userId": "09176238989486126448"
     },
     "user_tz": -330
    },
    "id": "kq0TLyg12i61",
    "outputId": "1a5dcb30-57e2-4e97-fcc2-31090e12dc87"
   },
   "outputs": [],
   "source": [
    "#only required for google colab - No need to run this block outside colab environment\n",
    "from google.colab import drive\n",
    "drive.mount('/content/drive')"
   ]
  },
  {
   "cell_type": "code",
   "execution_count": null,
   "metadata": {
    "colab": {},
    "colab_type": "code",
    "executionInfo": {
     "elapsed": 1358,
     "status": "ok",
     "timestamp": 1594730187290,
     "user": {
      "displayName": "Heritage Institute of Technology",
      "photoUrl": "",
      "userId": "09176238989486126448"
     },
     "user_tz": -330
    },
    "id": "EDSd-2u52oDw"
   },
   "outputs": [],
   "source": [
    "import urllib.request as libreq\n",
    "import sys\n",
    "import time\n",
    "import os\n",
    "import csv\n",
    "import feedparser\n",
    "import logging\n",
    "import random"
   ]
  },
  {
   "cell_type": "code",
   "execution_count": null,
   "metadata": {
    "colab": {},
    "colab_type": "code",
    "executionInfo": {
     "elapsed": 810,
     "status": "ok",
     "timestamp": 1594730192576,
     "user": {
      "displayName": "Heritage Institute of Technology",
      "photoUrl": "",
      "userId": "09176238989486126448"
     },
     "user_tz": -330
    },
    "id": "xdBeV_dm267D"
   },
   "outputs": [],
   "source": [
    "\n",
    "category = [\"cs\",\"eess\",\"econ\",\"stat\",\"math\",\"physics\",\"q-bio\",\"q-fin\"]\n",
    "base_url = 'http://export.arxiv.org/api/query?'"
   ]
  },
  {
   "cell_type": "code",
   "execution_count": null,
   "metadata": {
    "colab": {},
    "colab_type": "code",
    "executionInfo": {
     "elapsed": 1804,
     "status": "ok",
     "timestamp": 1594730197344,
     "user": {
      "displayName": "Heritage Institute of Technology",
      "photoUrl": "",
      "userId": "09176238989486126448"
     },
     "user_tz": -330
    },
    "id": "vx1n_7Bo29Uv"
   },
   "outputs": [],
   "source": [
    "# Opensearch metadata such as totalResults, startIndex,\n",
    "# and itemsPerPage live in the opensearch namespace.\n",
    "# Some entry metadata lives in the arXiv namespace.\n",
    "# This is a hack to expose both of these namespaces in\n",
    "# feedparser v4.1\n",
    "\n",
    "feedparser._FeedParserMixin.namespaces['http://a9.com/-/spec/opensearch/1.1/'\n",
    "        ] = 'opensearch'\n",
    "feedparser._FeedParserMixin.namespaces['http://arxiv.org/schemas/atom'\n",
    "        ] = 'arxiv'\n",
    "\n",
    "# When running on Google Colab add the following: '/content/drive/My Drive/ArXiv_Dataset/' path before the csv file\n",
    "with open('ArXiv_Data.csv', 'w', newline='',encoding='latin1') as csvFile:\n",
    "    writer = csv.writer(csvFile)\n",
    "    writer.writerow(['title', 'abstract'])\n",
    "csvFile.close()\n",
    "logging.basicConfig(filename='Details.log',\n",
    "                    format='%(asctime)s:[%(levelname)s]:%(message)s',\n",
    "                    filemode='w')\n",
    "logger = logging.getLogger()\n",
    "\n",
    "# threshold of logger to DEBUG\n",
    "\n",
    "logger.setLevel(logging.DEBUG)"
   ]
  },
  {
   "cell_type": "code",
   "execution_count": null,
   "metadata": {
    "colab": {},
    "colab_type": "code",
    "executionInfo": {
     "elapsed": 1666,
     "status": "ok",
     "timestamp": 1594730203863,
     "user": {
      "displayName": "Heritage Institute of Technology",
      "photoUrl": "",
      "userId": "09176238989486126448"
     },
     "user_tz": -330
    },
    "id": "p2PKag8bWrL6"
   },
   "outputs": [],
   "source": [
    "# Remove out of context unicodes \n",
    "def is_latin(s):\n",
    "    return all(ord(c) < 256 for c in s)\n"
   ]
  },
  {
   "cell_type": "code",
   "execution_count": null,
   "metadata": {
    "colab": {
     "base_uri": "https://localhost:8080/",
     "height": 493
    },
    "colab_type": "code",
    "executionInfo": {
     "elapsed": 76643,
     "status": "error",
     "timestamp": 1594730295712,
     "user": {
      "displayName": "Heritage Institute of Technology",
      "photoUrl": "",
      "userId": "09176238989486126448"
     },
     "user_tz": -330
    },
    "id": "zaUwSuZJ7QuL",
    "outputId": "820733e3-345a-4f0e-c684-8e03e80a733b"
   },
   "outputs": [],
   "source": [
    "print(\".....Code is running....PLEASE don't close this window / shutdown the machine.....\")\n",
    "for i in category:\n",
    "    search_query = 'cat:' + i + '.*'\n",
    "    results_per_iter, ctr = 500, 0\n",
    "    max_total_results = 200000\n",
    "    for j in range(0, max_total_results, results_per_iter):\n",
    "        start = j\n",
    "        max_results = results_per_iter\n",
    "        query = 'search_query=%s&start=%i&max_results=%i' \\\n",
    "            % (search_query, start, max_results)\n",
    "\n",
    "        # Repeat GET requests if there's a <Connection timed out> or some other kind of excpetion\n",
    "\n",
    "        exception_count = 0\n",
    "        successful_response = False\n",
    "        while successful_response == False:\n",
    "            try:\n",
    "\n",
    "                # Perform a GET request using the base_url and query\n",
    "\n",
    "                with libreq.urlopen(base_url + query) as url:\n",
    "                    response = url.read()\n",
    "                successful_response = True\n",
    "            except IOError:\n",
    "\n",
    "                logger.warning('IOError exception. Likely a connection time out. Trying again in 20s.'\n",
    "                               )\n",
    "                time.sleep(20)\n",
    "                exception_count += 1\n",
    "                if exception_count > 10:\n",
    "                    logger.error('Too many IOError exceptions. They have likely hung up for good. Stopping.'\n",
    "                                 )\n",
    "                    exit()\n",
    "            time.sleep(random.uniform(1,3))\n",
    "            feed = feedparser.parse(response)\n",
    "        if(j==0):\n",
    "            logger.info('\\tTotal results for this category: (%s) = %s'\n",
    "                             % (i, feed.feed.opensearch_totalresults))\n",
    "            max_total_results = int(feed.feed.opensearch_totalresults)\n",
    "        logger.info(\"\\tScraped: %d records so far\" % (j+results_per_iter))\n",
    "        \n",
    "        # When running on Google Colab add the following: '/content/drive/My Drive/ArXiv_Dataset/' path before the csv file\n",
    "        with open('ArXiv_Data.csv', 'a', newline='', encoding='latin1') as csvFile:\n",
    "            writer = csv.writer(csvFile)\n",
    "            if(len(feed.entries)>0):\n",
    "              for entry in feed.entries:\n",
    "                  raw_abstract = entry.summary\n",
    "                  abstract = ' '.join(raw_abstract.splitlines())\n",
    "                  raw_title = entry.title\n",
    "                  title = ' '.join(raw_title.splitlines())\n",
    "                  x,y = title.count(' '),abstract.count(' ')\n",
    "                  if(4<=x<=14 and 79<=y<=249):\n",
    "                    try:\n",
    "                      writer.writerow([title, abstract])\n",
    "                      ctr += 1\n",
    "                    except:\n",
    "                        n_title, n_abstract = '', ''\n",
    "                        for k in title.split():\n",
    "                            if(is_latin(k)):\n",
    "                                n_title += str(k)\n",
    "                        for k in abstract.split():\n",
    "                            if(is_latin(k)):\n",
    "                                n_abstract += str(k)\n",
    "                        writer.writerow([n_title, n_abstract])\n",
    "                        ctr += 1\n",
    "        logger.info(\"\\tWrote: %d records so far\" % ctr)\n",
    "        csvFile.close()\n",
    "        if(int(feed.feed.opensearch_itemsperpage) < max_results):\n",
    "            break\n",
    "        # Time delay to avoid server hang up\n",
    "        time.sleep(random.uniform(5,10))\n",
    "    logger.info('Completed category:(%s). %i records Wrote.'%(i, ctr))\n",
    "    print('Completed category:(%s). %i records Wrote.'%(i, ctr))\n",
    "\n",
    "print('Finished!')\n"
   ]
  }
 ],
 "metadata": {
  "accelerator": "GPU",
  "colab": {
   "collapsed_sections": [],
   "name": "arXiv_crawler.ipynb",
   "provenance": []
  },
  "kernelspec": {
   "display_name": "Python 3",
   "language": "python",
   "name": "python3"
  },
  "language_info": {
   "codemirror_mode": {
    "name": "ipython",
    "version": 3
   },
   "file_extension": ".py",
   "mimetype": "text/x-python",
   "name": "python",
   "nbconvert_exporter": "python",
   "pygments_lexer": "ipython3",
   "version": "3.8.3"
  }
 },
 "nbformat": 4,
 "nbformat_minor": 1
}
